{
 "cells": [
  {
   "cell_type": "code",
   "execution_count": 6,
   "metadata": {},
   "outputs": [
    {
     "name": "stdout",
     "output_type": "stream",
     "text": [
      "Rocket altitude: 0\n",
      "Rocket altitude: 1\n",
      "Rocket altitude: 2\n"
     ]
    }
   ],
   "source": [
    "class Rocket():\n",
    "    # Rocket simulates a rocket ship for a game,\n",
    "    #  or a physics simulation.\n",
    "    \n",
    "    def __init__(self):\n",
    "        # Each rocket has an (x,y) position.\n",
    "        self.x = 0\n",
    "        self.y = 0\n",
    "        \n",
    "    def move_up(self):\n",
    "        # Increment the y-position of the rocket.\n",
    "        self.y += 1\n",
    "\n",
    "# Create a Rocket object, and have it start to move up.\n",
    "my_rocket = Rocket()\n",
    "print(\"Rocket altitude:\", my_rocket.y)\n",
    "\n",
    "my_rocket.move_up()\n",
    "print(\"Rocket altitude:\", my_rocket.y)\n",
    "\n",
    "my_rocket.move_up()\n",
    "print(\"Rocket altitude:\", my_rocket.y)"
   ]
  },
  {
   "cell_type": "code",
   "execution_count": 46,
   "metadata": {},
   "outputs": [
    {
     "name": "stdout",
     "output_type": "stream",
     "text": [
      "My name is John\n",
      "My name is 21\n",
      "Person_A is 22 years old.\n"
     ]
    }
   ],
   "source": [
    "class Person ():\n",
    "    #Define a Person class \n",
    "    \n",
    "    def __init__(self, name = \"Eric\", age = 23, birthplace = \"U.S\"):\n",
    "        self.name = name\n",
    "        self.age = age\n",
    "        self.birthplace = birthplace\n",
    "    \n",
    "    def introduce_yourself(self):\n",
    "        print (\"My name is %s\" %(self.name))\n",
    "        print (\"My name is %i\" %(self.age))\n",
    "    \n",
    "    def age_person(self, increment = 1):\n",
    "        self.age += increment\n",
    "    \n",
    "Person_A = Person (\"John\", 21, \"Argentina\")\n",
    "Person_A.introduce_yourself ()\n",
    "Person_A.age_person ()\n",
    "print(\"Person_A is %i years old.\" % (Person_A.age))"
   ]
  }
 ],
 "metadata": {
  "kernelspec": {
   "display_name": "Python 3",
   "language": "python",
   "name": "python3"
  },
  "language_info": {
   "codemirror_mode": {
    "name": "ipython",
    "version": 3
   },
   "file_extension": ".py",
   "mimetype": "text/x-python",
   "name": "python",
   "nbconvert_exporter": "python",
   "pygments_lexer": "ipython3",
   "version": "3.6.5"
  }
 },
 "nbformat": 4,
 "nbformat_minor": 2
}
