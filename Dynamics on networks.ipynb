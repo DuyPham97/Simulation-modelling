{
 "cells": [
  {
   "cell_type": "code",
   "execution_count": 32,
   "metadata": {},
   "outputs": [],
   "source": [
    "import matplotlib\n",
    "from pylab import *\n",
    "import networkx as nx\n",
    "import random as rd\n",
    "\n",
    "def initialize():\n",
    "    global g\n",
    "    g = nx.karate_club_graph()\n",
    "    time = 0\n",
    "    g.pos = nx.spring_layout(g)\n",
    "    for i in g.nodes:\n",
    "        g.nodes[i]['state'] = 1 if random() < .5 else 0\n",
    "\n",
    "def observe():\n",
    "    global g, time\n",
    "    cla()\n",
    "    nx.draw(g, vmin = 0, vmax = 1,\n",
    "            node_color = [g.nodes[i]['state'] for i in g.nodes],\n",
    "            pos = g.pos)\n",
    "\n",
    "def update():\n",
    "    global g\n",
    "    listener = rd.choice(list(g.nodes))\n",
    "    speaker = rd.choice(list(g.neighbors(listener)))\n",
    "    g.nodes[listener]['state'] = g.nodes[speaker]['state']\n",
    "    states = [g.nodes[i]['state'] for i in g.nodes]\n",
    "    if ((np.sum(states)/len(states)) == 1 or (np.sum(states)/len(states) == 0)):\n",
    "        return False\n",
    "    else: \n",
    "        return True\n",
    "\n",
    "def experiment(n):\n",
    "    record = []\n",
    "    for i in range (n):\n",
    "        graph = initialize()\n",
    "        condition = True\n",
    "        time = 0\n",
    "        while condition == True:\n",
    "            condition = update()\n",
    "            time +=1\n",
    "        record.append (time)\n",
    "    print('Mean step till homogeneity:', np.mean(record))"
   ]
  },
  {
   "cell_type": "code",
   "execution_count": 34,
   "metadata": {},
   "outputs": [
    {
     "name": "stdout",
     "output_type": "stream",
     "text": [
      "Mean step till homogeneity: 576.12\n"
     ]
    }
   ],
   "source": [
    "experiment (100)"
   ]
  },
  {
   "cell_type": "code",
   "execution_count": 11,
   "metadata": {},
   "outputs": [
    {
     "name": "stdout",
     "output_type": "stream",
     "text": [
      "Pull model mean step till homogeneity: 615.43\n",
      "Edge model mean step till homogeneity: 1117.0\n",
      "Push model mean step till homogeneity: 3182.84\n"
     ]
    }
   ],
   "source": [
    "import matplotlib\n",
    "from pylab import *\n",
    "import networkx as nx\n",
    "import random as rd\n",
    "\n",
    "def initialize():\n",
    "    g = nx.karate_club_graph()\n",
    "    g.pos = nx.spring_layout(g)\n",
    "    for i in g.nodes:\n",
    "        g.nodes[i]['state'] = 1 if random() < .5 else 0\n",
    "    return g\n",
    "    \n",
    "def pull(g):\n",
    "    listener = rd.choice(list(g.nodes))\n",
    "    speaker = rd.choice(list(g.neighbors(listener)))\n",
    "    g.nodes[listener]['state'] = g.nodes[speaker]['state']\n",
    "    states = [g.nodes[i]['state'] for i in g.nodes]\n",
    "    if ((np.sum(states)/len(states)) == 1 or (np.sum(states)/len(states) == 0)):\n",
    "        return False\n",
    "    else: \n",
    "        return True\n",
    "    \n",
    "def edge_based(g):\n",
    "    edge = rd.choice(list(g.edges))\n",
    "    choice = np.random.choice([0,1])\n",
    "    if choice == 0: \n",
    "        speaker = edge[1]\n",
    "        listener = edge[0]\n",
    "    else: \n",
    "        speaker = edge[0]\n",
    "        listener = edge[1]\n",
    "    g.nodes[listener]['state'] = g.nodes[speaker]['state']\n",
    "    states = [g.nodes[i]['state'] for i in g.nodes]\n",
    "    if ((np.sum(states)/len(states)) == 1 or (np.sum(states)/len(states) == 0)):\n",
    "        return False\n",
    "    else: \n",
    "        return True\n",
    "\n",
    "def push(g):\n",
    "    speaker = rd.choice(list(g.nodes))\n",
    "    listener = rd.choice(list(g.neighbors(speaker)))\n",
    "    g.nodes[listener]['state'] = g.nodes[speaker]['state']\n",
    "    states = [g.nodes[i]['state'] for i in g.nodes]\n",
    "    if ((np.sum(states)/len(states)) == 1 or (np.sum(states)/len(states) == 0)):\n",
    "        return False\n",
    "    else: \n",
    "        return True\n",
    "\n",
    "def experiment_pull(n): \n",
    "    record = []\n",
    "    for _ in range(n): \n",
    "        condition = True\n",
    "        graph = initialize()\n",
    "        step = 0\n",
    "        while condition == True: \n",
    "            condition = pull(graph)\n",
    "            step += 1\n",
    "        record.append(step)\n",
    "    print('Pull model mean step till homogeneity:', np.mean(record))\n",
    "    \n",
    "def experiment_edge(n): \n",
    "    record = []\n",
    "    for _ in range(n): \n",
    "        condition = True\n",
    "        graph = initialize()\n",
    "        step = 0\n",
    "        while condition == True: \n",
    "            condition = edge_based(graph)\n",
    "            step += 1\n",
    "        record.append(step)\n",
    "    print('Edge model mean step till homogeneity:', np.mean(record))\n",
    "    \n",
    "def experiment_push(n): \n",
    "    record = []\n",
    "    for _ in range(n): \n",
    "        condition = True\n",
    "        graph = initialize()\n",
    "        step = 0\n",
    "        while condition == True: \n",
    "            condition = push(graph)\n",
    "            step += 1\n",
    "        record.append(step)\n",
    "    print('Push model mean step till homogeneity:', np.mean(record))\n",
    "\n",
    "experiment_pull(100)\n",
    "experiment_edge(100)\n",
    "experiment_push(100)"
   ]
  },
  {
   "cell_type": "code",
   "execution_count": null,
   "metadata": {},
   "outputs": [],
   "source": [
    "nx.draw(g)"
   ]
  }
 ],
 "metadata": {
  "kernelspec": {
   "display_name": "Python 3",
   "language": "python",
   "name": "python3"
  },
  "language_info": {
   "codemirror_mode": {
    "name": "ipython",
    "version": 3
   },
   "file_extension": ".py",
   "mimetype": "text/x-python",
   "name": "python",
   "nbconvert_exporter": "python",
   "pygments_lexer": "ipython3",
   "version": "3.6.5"
  }
 },
 "nbformat": 4,
 "nbformat_minor": 2
}
