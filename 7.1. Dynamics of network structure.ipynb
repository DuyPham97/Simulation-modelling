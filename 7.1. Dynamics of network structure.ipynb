{
 "cells": [
  {
   "cell_type": "code",
   "execution_count": null,
   "metadata": {},
   "outputs": [],
   "source": [
    "#16.14. Grid graph\n",
    "\n",
    "import matplotlib\n",
    "matplotlib.use('TkAgg')\n",
    "from pylab import *\n",
    "import networkx as nx\n",
    "import random as rd\n",
    "\n",
    "n = 5 # number of nodes\n",
    "m = 6 # number of neighbors of each node\n",
    "\n",
    "def initialize():\n",
    "    global g\n",
    "    g = nx.grid_graph(dim=[n,m])\n",
    "    g.pos = nx.spring_layout(g)\n",
    "    g.count = 0\n",
    "\n",
    "def observe():\n",
    "    global g\n",
    "    cla()\n",
    "    nx.draw(g, pos = g.pos)\n",
    "\n",
    "def update():\n",
    "    global g\n",
    "    g.count += 1\n",
    "    if g.count % 20 == 0: # rewiring once in every 20 steps\n",
    "        nds = list(g.nodes)\n",
    "        i = rd.choice(nds)\n",
    "        if g.degree[i] > 0:\n",
    "            g.remove_edge(i, rd.choice(list(g.neighbors(i))))\n",
    "            nds.remove(i)\n",
    "            for j in g.neighbors(i):\n",
    "                nds.remove(j)\n",
    "            g.add_edge(i, rd.choice(nds))\n",
    "\n",
    "    # simulation of node movement\n",
    "    g.pos = nx.spring_layout(g, pos = g.pos, iterations = 5)\n",
    "\n",
    "import pycxsimulator\n",
    "pycxsimulator.GUI().start(func=[initialize, observe, update])"
   ]
  },
  {
   "cell_type": "code",
   "execution_count": 1,
   "metadata": {},
   "outputs": [],
   "source": [
    "import matplotlib\n",
    "matplotlib.use('TkAgg')\n",
    "from pylab import *\n",
    "import networkx as nx\n",
    "\n",
    "m0 = 5 # number of nodes in initial condition\n",
    "m = 5 # number of edges per new node\n",
    "\n",
    "def initialize():\n",
    "    global g\n",
    "    g = nx.complete_graph(m0)\n",
    "    g.pos = nx.spring_layout(g)\n",
    "    g.count = 0\n",
    "\n",
    "def observe():\n",
    "    global g\n",
    "    cla()\n",
    "    nx.draw(g, pos = g.pos)\n",
    "\n",
    "def pref_select(nds):\n",
    "    global g\n",
    "    r = uniform(0, sum(g.degree(i) for i in nds))\n",
    "    x=0\n",
    "    for i in nds:\n",
    "        x += g.degree[i]\n",
    "        if r <= x:\n",
    "            return i\n",
    "\n",
    "def update():\n",
    "    global g\n",
    "    g.count += 1\n",
    "    if g.count % 20 == 0: # network growth once in every 20 steps\n",
    "        nds = list(g.nodes)\n",
    "        newcomer = max(nds) + 1\n",
    "        for i in range(m):\n",
    "            j = pref_select(nds)\n",
    "            g.add_edge(newcomer, j)\n",
    "            nds.remove(j)\n",
    "        g.pos[newcomer] = (0, 0)\n",
    "\n",
    "    # simulation of node movement\n",
    "    g.pos = nx.spring_layout(g, pos = g.pos, iterations = 5)\n",
    "\n",
    "import pycxsimulator\n",
    "pycxsimulator.GUI().start(func=[initialize, observe, update])"
   ]
  },
  {
   "cell_type": "markdown",
   "metadata": {},
   "source": [
    "With m = 1, we will have the richer will become richer. With m = 5, we have a more evenly distributed graph in which nodes are connected with each other without a very central node."
   ]
  },
  {
   "cell_type": "code",
   "execution_count": 2,
   "metadata": {},
   "outputs": [
    {
     "name": "stdout",
     "output_type": "stream",
     "text": [
      "[0, 1, 2, 3, 4]\n"
     ]
    }
   ],
   "source": [
    "G = nx.path_graph(5)\n",
    "print(nx.shortest_path(G, source=0, target=4))"
   ]
  },
  {
   "cell_type": "code",
   "execution_count": 5,
   "metadata": {},
   "outputs": [],
   "source": [
    "degree = np.array((2,5,6,8,10))\n"
   ]
  },
  {
   "cell_type": "code",
   "execution_count": 7,
   "metadata": {},
   "outputs": [
    {
     "data": {
      "text/plain": [
       "array([ 2,  7, 13, 21, 31], dtype=int32)"
      ]
     },
     "execution_count": 7,
     "metadata": {},
     "output_type": "execute_result"
    }
   ],
   "source": [
    "cumulative = degree.cumsum()\n",
    "cumulative"
   ]
  },
  {
   "cell_type": "code",
   "execution_count": 11,
   "metadata": {},
   "outputs": [
    {
     "data": {
      "text/plain": [
       "20.183402626440966"
      ]
     },
     "execution_count": 11,
     "metadata": {},
     "output_type": "execute_result"
    }
   ],
   "source": [
    "index = np.random.uniform(0, cumulative[-1])\n",
    "index"
   ]
  }
 ],
 "metadata": {
  "kernelspec": {
   "display_name": "Python 3",
   "language": "python",
   "name": "python3"
  },
  "language_info": {
   "codemirror_mode": {
    "name": "ipython",
    "version": 3
   },
   "file_extension": ".py",
   "mimetype": "text/x-python",
   "name": "python",
   "nbconvert_exporter": "python",
   "pygments_lexer": "ipython3",
   "version": "3.6.5"
  }
 },
 "nbformat": 4,
 "nbformat_minor": 2
}
