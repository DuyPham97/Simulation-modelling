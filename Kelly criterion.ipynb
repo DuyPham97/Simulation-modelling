{
 "cells": [
  {
   "cell_type": "code",
   "execution_count": 1,
   "metadata": {},
   "outputs": [],
   "source": [
    "import numpy as np \n",
    "import matplotlib.pyplot as plt\n",
    "import scipy.stats as stats\n",
    "import random"
   ]
  },
  {
   "cell_type": "code",
   "execution_count": 2,
   "metadata": {},
   "outputs": [],
   "source": [
    "'''\n",
    "Strategy: Apply Kelly criterion function to bet this model: f = E/sigma \n",
    "E = sigma*p - q = 1*0.6 - 0.4 = 0.2 \n",
    "Sigma = 1\n",
    "Thus, I will bet 0.2 funding of each time\n",
    "'''\n",
    "def bet_game_1 (origin = 250, head_p = 0.6, max_turn = 20):\n",
    "    turn = 0\n",
    "    fund = origin\n",
    "    while turn < max_turn:\n",
    "        if random.random() < head_p:\n",
    "            fund += fund*20/100 \n",
    "        else: \n",
    "            fund -= fund*20/100 \n",
    "        turn +=1\n",
    "    return fund \n",
    "\n",
    "def bet_game_2 (origin = 250, head_p = 0.6, max_turn = 20):\n",
    "    turn = 0\n",
    "    fund = origin\n",
    "    while turn < max_turn:\n",
    "        if random.random() < head_p:\n",
    "            fund += origin*10/100 \n",
    "        else: \n",
    "            fund -= origin*10/100 \n",
    "        turn +=1\n",
    "    return fund "
   ]
  },
  {
   "cell_type": "code",
   "execution_count": 3,
   "metadata": {},
   "outputs": [
    {
     "data": {
      "image/png": "[encoded data removed]",
      "text/plain": [
       "<Figure size 432x288 with 1 Axes>"
      ]
     },
     "metadata": {},
     "output_type": "display_data"
    },
    {
     "name": "stdout",
     "output_type": "stream",
     "text": [
      "Lower bound of the betting strategy is 73.9\n",
      "Upper bound of the betting strategy is 1293.7\n"
     ]
    }
   ],
   "source": [
    "kelly = []\n",
    "for i in range (1000):\n",
    "    money = bet_game_1 (origin = 250, head_p = 0.6, max_turn = 20)\n",
    "    kelly.append(money)\n",
    "\n",
    "plt.hist(kelly, bins = 50)\n",
    "plt.xlim (xmin = 0, xmax = 1500)\n",
    "plt.title('Money earned using Kelly technique')\n",
    "plt.show()\n",
    "\n",
    "lower_bound = np.percentile (kelly, 5)\n",
    "upper_bound = np.percentile (kelly, 95)\n",
    "print ('Lower bound of the betting strategy is {:.1f}'.format (lower_bound))\n",
    "print ('Upper bound of the betting strategy is {:.1f}'.format (upper_bound))"
   ]
  },
  {
   "cell_type": "code",
   "execution_count": 36,
   "metadata": {},
   "outputs": [
    {
     "data": {
      "image/png": "[encoded data removed]",
      "text/plain": [
       "<Figure size 432x288 with 1 Axes>"
      ]
     },
     "metadata": {},
     "output_type": "display_data"
    },
    {
     "name": "stdout",
     "output_type": "stream",
     "text": [
      "Lower bound of the betting strategy is 150.0\n",
      "Upper bound of the betting strategy is 500.0\n"
     ]
    }
   ],
   "source": [
    "duy_awesome_game = []\n",
    "for i in range (1000):\n",
    "    money = bet_game_2 (origin = 250, head_p = 0.6, max_turn = 20)\n",
    "    duy_awesome_game.append(money)\n",
    "\n",
    "plt.hist(duy_awesome_game, bins = 50)\n",
    "plt.xlim (xmin = 0, xmax = 1500)\n",
    "plt.title('Money earned using Duy''s strategy')\n",
    "plt.show()\n",
    "\n",
    "lower_bound = np.percentile (duy_awesome_game, 5)\n",
    "upper_bound = np.percentile (duy_awesome_game, 95)\n",
    "print ('Lower bound of the betting strategy is {:.1f}'.format (lower_bound))\n",
    "print ('Upper bound of the betting strategy is {:.1f}'.format (upper_bound))"
   ]
  }
 ],
 "metadata": {
  "kernelspec": {
   "display_name": "Python 3",
   "language": "python",
   "name": "python3"
  },
  "language_info": {
   "codemirror_mode": {
    "name": "ipython",
    "version": 3
   },
   "file_extension": ".py",
   "mimetype": "text/x-python",
   "name": "python",
   "nbconvert_exporter": "python",
   "pygments_lexer": "ipython3",
   "version": "3.6.5"
  }
 },
 "nbformat": 4,
 "nbformat_minor": 2
}
