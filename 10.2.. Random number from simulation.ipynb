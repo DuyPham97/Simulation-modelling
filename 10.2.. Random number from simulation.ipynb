{
 "cells": [
  {
   "cell_type": "code",
   "execution_count": 68,
   "metadata": {},
   "outputs": [],
   "source": [
    "import numpy as np \n",
    "import matplotlib.pyplot as plt\n",
    "import scipy.stats as sts\n",
    "import scipy"
   ]
  },
  {
   "cell_type": "code",
   "execution_count": 194,
   "metadata": {},
   "outputs": [
    {
     "data": {
      "text/plain": [
       "2.45288223745441"
      ]
     },
     "execution_count": 194,
     "metadata": {},
     "output_type": "execute_result"
    }
   ],
   "source": [
    "def wait_time(n, l): \n",
    "    arrival_time_e = np.cumsum(sts.expon(l**(-1)).rvs(n))\n",
    "    passenger_time =  np.cumsum(sts.uniform(loc=0, scale=1).rvs(size=n))\n",
    "    wait_time_e = []\n",
    "    for _ in range(n): \n",
    "        i_e = np.searchsorted(arrival_time_e, passenger_time[_])\n",
    "        if i_e >= len(arrival_time_e)-1:\n",
    "            pass\n",
    "        else: \n",
    "            wait_time_e.append(arrival_time_e[i_e+1] - passenger_time[_])\n",
    "    return np.mean(wait_time_e)\n",
    "\n",
    "wait_time(1000, 2)"
   ]
  },
  {
   "cell_type": "code",
   "execution_count": 201,
   "metadata": {},
   "outputs": [
    {
     "data": {
      "text/plain": [
       "1.623891725686787"
      ]
     },
     "execution_count": 201,
     "metadata": {},
     "output_type": "execute_result"
    }
   ],
   "source": [
    "def wait_time_u(n, l): \n",
    "    arrival_time_u = np.cumsum(sts.uniform(0, 2*l).rvs(n))\n",
    "    passenger_time =  np.cumsum(sts.uniform(loc=0, scale=1).rvs(size=n))\n",
    "    wait_time_u = []\n",
    "    for _ in range(n): \n",
    "        i_u = np.searchsorted(arrival_time_u, passenger_time[_])\n",
    "        if i_u >= len(arrival_time_u)-1:\n",
    "            pass\n",
    "        else: \n",
    "            wait_time_u.append(arrival_time_u[i_u+1] - passenger_time[_])\n",
    "    return np.mean(wait_time_u)\n",
    "\n",
    "wait_time_u(1000, 1)"
   ]
  },
  {
   "cell_type": "markdown",
   "metadata": {},
   "source": [
    "### Fannie Mae"
   ]
  },
  {
   "cell_type": "code",
   "execution_count": 198,
   "metadata": {},
   "outputs": [],
   "source": [
    "data = {\n",
    "    50: 0.00832, 51: 0.00911, 52: 0.00996, 53: 0.01089, 54: 0.01190,\n",
    "    55: 0.01300, 56: 0.01421, 57: 0.01554, 58: 0.01700, 59: 0.01859,\n",
    "    60: 0.02034, 61: 0.02224, 62: 0.02431, 63: 0.02657, 64: 0.02904,\n",
    "    65: 0.03175, 66: 0.03474, 67: 0.03804, 68: 0.04168, 69: 0.04561,\n",
    "    70: 0.04979, 71: 0.05415, 72: 0.05865, 73: 0.06326, 74: 0.06812,\n",
    "    75: 0.07337, 76: 0.07918, 77: 0.08570, 78: 0.09306, 79: 0.10119,\n",
    "    80: 0.10998, 81: 0.11935, 82: 0.12917, 83: 0.13938, 84: 0.15001,\n",
    "    85: 0.16114, 86: 0.17282, 87: 0.18513, 88: 0.19825, 89: 0.21246,\n",
    "    90: 0.22814, 91: 0.24577, 92: 0.26593, 93: 0.28930, 94: 0.31666,\n",
    "    95: 0.35124, 96: 0.40056, 97: 0.48842, 98: 0.66815, 99: 0.72000,\n",
    "    100: 0.76000, 101: 0.80000, 102: 0.85000, 103: 0.90000,\n",
    "    104: 0.96000, 105: 1.00000 }"
   ]
  },
  {
   "cell_type": "code",
   "execution_count": 60,
   "metadata": {},
   "outputs": [],
   "source": [
    "def Fannie_Mae (mu = 0.08, sd = 0.09, ini_age = 50, end_age = 70, ini_inv = 150000, accu_inv = 10000, withdraw = 65000):\n",
    "    age = ini_age\n",
    "    fund = ini_inv\n",
    "    while ini_age < 106: \n",
    "        if np.random.uniform() < data[age]:\n",
    "            break \n",
    "        else:\n",
    "            if age <= end_age: \n",
    "                fund = fund + fund * sts.norm (mu, sd).rvs(1) + accu_inv\n",
    "            if age > end_age: \n",
    "                fund -= withdraw\n",
    "        age +=1\n",
    "    return float(fund)"
   ]
  },
  {
   "cell_type": "code",
   "execution_count": 61,
   "metadata": {},
   "outputs": [],
   "source": [
    "moneys = [] \n",
    "for _ in range(1000):\n",
    "    moneys.append(Fannie_Mae())"
   ]
  },
  {
   "cell_type": "code",
   "execution_count": 62,
   "metadata": {},
   "outputs": [
    {
     "data": {
      "image/png": "[encoded data removed]",
      "text/plain": [
       "<Figure size 864x432 with 1 Axes>"
      ]
     },
     "metadata": {},
     "output_type": "display_data"
    }
   ],
   "source": [
    "plt.figure (figsize = (12,6))\n",
    "plt.hist (moneys, bins =20, color = 'c', alpha = 0.5, density = True)\n",
    "plt.xlabel('frequency')\n",
    "plt.show()"
   ]
  },
  {
   "cell_type": "code",
   "execution_count": 172,
   "metadata": {},
   "outputs": [],
   "source": [
    "import numpy as np\n",
    "x = [0.8, 0.6, 0.4, 2]\n",
    "p = np.cumsum(x)\n",
    "sample = p.searchsorted (np.random.uniform (0,1))"
   ]
  },
  {
   "cell_type": "code",
   "execution_count": 192,
   "metadata": {},
   "outputs": [
    {
     "data": {
      "text/plain": [
       "0.2514637504294375"
      ]
     },
     "execution_count": 192,
     "metadata": {},
     "output_type": "execute_result"
    }
   ],
   "source": [
    "np.random.uniform (0,3.8)"
   ]
  },
  {
   "cell_type": "code",
   "execution_count": null,
   "metadata": {},
   "outputs": [],
   "source": []
  },
  {
   "cell_type": "code",
   "execution_count": null,
   "metadata": {},
   "outputs": [],
   "source": []
  }
 ],
 "metadata": {
  "kernelspec": {
   "display_name": "Python 3",
   "language": "python",
   "name": "python3"
  },
  "language_info": {
   "codemirror_mode": {
    "name": "ipython",
    "version": 3
   },
   "file_extension": ".py",
   "mimetype": "text/x-python",
   "name": "python",
   "nbconvert_exporter": "python",
   "pygments_lexer": "ipython3",
   "version": "3.6.5"
  }
 },
 "nbformat": 4,
 "nbformat_minor": 2
}
